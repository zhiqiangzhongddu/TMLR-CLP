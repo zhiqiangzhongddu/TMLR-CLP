{
 "cells": [
  {
   "cell_type": "code",
   "execution_count": 1,
   "metadata": {},
   "outputs": [
    {
     "name": "stderr",
     "output_type": "stream",
     "text": [
      "Using backend: pytorch\n"
     ]
    }
   ],
   "source": [
    "import random\n",
    "import numpy as np\n",
    "\n",
    "import torch\n",
    "\n",
    "from load_data import load_data, load_data_ogb\n",
    "from diffusion_feature import preprocess\n",
    "\n",
    "SEED = random.randint(1,10001)\n",
    "random.seed(SEED)\n",
    "np.random.seed(SEED)\n",
    "torch.manual_seed(SEED)\n",
    "\n",
    "import warnings\n",
    "warnings.filterwarnings('ignore')"
   ]
  },
  {
   "cell_type": "code",
   "execution_count": 6,
   "metadata": {},
   "outputs": [],
   "source": [
    "# data_name = 'products' # 'arxiv', 'products'\n",
    "data_name = 'Cora'\n",
    "\n",
    "if data_name in ['arxiv', 'products']:\n",
    "    data = load_data_ogb(data_name=data_name, preprocess_mode=True)\n",
    "else:\n",
    "    data = load_data(\n",
    "        data_name, use_feat=True,\n",
    "        num_train=10, split_id=0,\n",
    "        to_sparse=False, feat_norm=False\n",
    "    )"
   ]
  },
  {
   "cell_type": "code",
   "execution_count": null,
   "metadata": {},
   "outputs": [
    {
     "name": "stdout",
     "output_type": "stream",
     "text": [
      "../input/embeddings/diffusionproducts.pt not found or not enough iterations! Regenerating it now\n",
      "Computing adj...\n"
     ]
    }
   ],
   "source": [
    "diff_feat = preprocess(data, 'diffusion', post_fix=data_name)\n",
    "spec_feat = preprocess(data, 'spectral', post_fix=data_name)"
   ]
  },
  {
   "cell_type": "code",
   "execution_count": null,
   "metadata": {},
   "outputs": [],
   "source": []
  },
  {
   "cell_type": "code",
   "execution_count": null,
   "metadata": {},
   "outputs": [],
   "source": []
  }
 ],
 "metadata": {
  "kernelspec": {
   "display_name": "Python 3",
   "language": "python",
   "name": "python3"
  },
  "language_info": {
   "codemirror_mode": {
    "name": "ipython",
    "version": 3
   },
   "file_extension": ".py",
   "mimetype": "text/x-python",
   "name": "python",
   "nbconvert_exporter": "python",
   "pygments_lexer": "ipython3",
   "version": "3.7.9"
  }
 },
 "nbformat": 4,
 "nbformat_minor": 4
}
